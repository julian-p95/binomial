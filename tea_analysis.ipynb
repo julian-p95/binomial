{
 "cells": [
  {
   "cell_type": "code",
   "execution_count": 1,
   "id": "774ac58b",
   "metadata": {},
   "outputs": [
    {
     "data": {
      "text/html": [
       "<div>\n",
       "<style scoped>\n",
       "    .dataframe tbody tr th:only-of-type {\n",
       "        vertical-align: middle;\n",
       "    }\n",
       "\n",
       "    .dataframe tbody tr th {\n",
       "        vertical-align: top;\n",
       "    }\n",
       "\n",
       "    .dataframe thead th {\n",
       "        text-align: right;\n",
       "    }\n",
       "</style>\n",
       "<table border=\"1\" class=\"dataframe\">\n",
       "  <thead>\n",
       "    <tr style=\"text-align: right;\">\n",
       "      <th></th>\n",
       "      <th>tout_moment</th>\n",
       "      <th>variete</th>\n",
       "      <th>comment</th>\n",
       "      <th>sucre</th>\n",
       "      <th>forme</th>\n",
       "      <th>type</th>\n",
       "      <th>sexe</th>\n",
       "      <th>CSP</th>\n",
       "      <th>sportif</th>\n",
       "      <th>age</th>\n",
       "      <th>frequence</th>\n",
       "      <th>plus_pour_la_sante</th>\n",
       "    </tr>\n",
       "  </thead>\n",
       "  <tbody>\n",
       "    <tr>\n",
       "      <th>0</th>\n",
       "      <td>0</td>\n",
       "      <td>noir</td>\n",
       "      <td>pur</td>\n",
       "      <td>1</td>\n",
       "      <td>sachet</td>\n",
       "      <td>inconnu</td>\n",
       "      <td>H</td>\n",
       "      <td>cadre moyen</td>\n",
       "      <td>1</td>\n",
       "      <td>39</td>\n",
       "      <td>1/jour</td>\n",
       "      <td>1</td>\n",
       "    </tr>\n",
       "    <tr>\n",
       "      <th>1</th>\n",
       "      <td>0</td>\n",
       "      <td>noir</td>\n",
       "      <td>lait</td>\n",
       "      <td>0</td>\n",
       "      <td>sachet</td>\n",
       "      <td>variable</td>\n",
       "      <td>F</td>\n",
       "      <td>cadre moyen</td>\n",
       "      <td>1</td>\n",
       "      <td>45</td>\n",
       "      <td>1/jour</td>\n",
       "      <td>1</td>\n",
       "    </tr>\n",
       "    <tr>\n",
       "      <th>2</th>\n",
       "      <td>0</td>\n",
       "      <td>parfumé</td>\n",
       "      <td>pur</td>\n",
       "      <td>0</td>\n",
       "      <td>sachet</td>\n",
       "      <td>variable</td>\n",
       "      <td>F</td>\n",
       "      <td>autre actif</td>\n",
       "      <td>1</td>\n",
       "      <td>47</td>\n",
       "      <td>+ de 2/jour</td>\n",
       "      <td>1</td>\n",
       "    </tr>\n",
       "    <tr>\n",
       "      <th>3</th>\n",
       "      <td>0</td>\n",
       "      <td>parfumé</td>\n",
       "      <td>pur</td>\n",
       "      <td>1</td>\n",
       "      <td>sachet</td>\n",
       "      <td>variable</td>\n",
       "      <td>H</td>\n",
       "      <td>étudiant</td>\n",
       "      <td>0</td>\n",
       "      <td>23</td>\n",
       "      <td>1/jour</td>\n",
       "      <td>1</td>\n",
       "    </tr>\n",
       "    <tr>\n",
       "      <th>4</th>\n",
       "      <td>1</td>\n",
       "      <td>parfumé</td>\n",
       "      <td>pur</td>\n",
       "      <td>0</td>\n",
       "      <td>sachet</td>\n",
       "      <td>variable</td>\n",
       "      <td>H</td>\n",
       "      <td>employé</td>\n",
       "      <td>1</td>\n",
       "      <td>48</td>\n",
       "      <td>+ de 2/jour</td>\n",
       "      <td>0</td>\n",
       "    </tr>\n",
       "  </tbody>\n",
       "</table>\n",
       "</div>"
      ],
      "text/plain": [
       "   tout_moment  variete comment  sucre   forme      type sexe          CSP  \\\n",
       "0            0     noir     pur      1  sachet   inconnu    H  cadre moyen   \n",
       "1            0     noir    lait      0  sachet  variable    F  cadre moyen   \n",
       "2            0  parfumé     pur      0  sachet  variable    F  autre actif   \n",
       "3            0  parfumé     pur      1  sachet  variable    H     étudiant   \n",
       "4            1  parfumé     pur      0  sachet  variable    H      employé   \n",
       "\n",
       "   sportif  age    frequence  plus_pour_la_sante  \n",
       "0        1   39       1/jour                   1  \n",
       "1        1   45       1/jour                   1  \n",
       "2        1   47  + de 2/jour                   1  \n",
       "3        0   23       1/jour                   1  \n",
       "4        1   48  + de 2/jour                   0  "
      ]
     },
     "execution_count": 1,
     "metadata": {},
     "output_type": "execute_result"
    }
   ],
   "source": [
    "import pandas as pd\n",
    "T=pd.read_csv(r'C:\\Users\\julia\\Documents\\python36\\datasource\\data\\the.csv')\n",
    "T.head()"
   ]
  },
  {
   "cell_type": "code",
   "execution_count": 2,
   "id": "60e9c5c7",
   "metadata": {},
   "outputs": [],
   "source": [
    "T2=T.query('age <= 25 or sportif == 1')"
   ]
  },
  {
   "cell_type": "code",
   "execution_count": 3,
   "id": "2ff7eccb",
   "metadata": {},
   "outputs": [],
   "source": [
    "T1=T.query('sexe == \"F\" and age >= 30')"
   ]
  },
  {
   "cell_type": "code",
   "execution_count": 4,
   "id": "7670a161",
   "metadata": {},
   "outputs": [],
   "source": [
    "E=pd.crosstab(T['sexe'],T['comment'])"
   ]
  },
  {
   "cell_type": "code",
   "execution_count": 5,
   "id": "9099515e",
   "metadata": {},
   "outputs": [
    {
     "data": {
      "text/html": [
       "<div>\n",
       "<style scoped>\n",
       "    .dataframe tbody tr th:only-of-type {\n",
       "        vertical-align: middle;\n",
       "    }\n",
       "\n",
       "    .dataframe tbody tr th {\n",
       "        vertical-align: top;\n",
       "    }\n",
       "\n",
       "    .dataframe thead th {\n",
       "        text-align: right;\n",
       "    }\n",
       "</style>\n",
       "<table border=\"1\" class=\"dataframe\">\n",
       "  <thead>\n",
       "    <tr style=\"text-align: right;\">\n",
       "      <th>comment</th>\n",
       "      <th>autre</th>\n",
       "      <th>citron</th>\n",
       "      <th>lait</th>\n",
       "      <th>pur</th>\n",
       "    </tr>\n",
       "    <tr>\n",
       "      <th>sexe</th>\n",
       "      <th></th>\n",
       "      <th></th>\n",
       "      <th></th>\n",
       "      <th></th>\n",
       "    </tr>\n",
       "  </thead>\n",
       "  <tbody>\n",
       "    <tr>\n",
       "      <th>F</th>\n",
       "      <td>6</td>\n",
       "      <td>19</td>\n",
       "      <td>32</td>\n",
       "      <td>121</td>\n",
       "    </tr>\n",
       "    <tr>\n",
       "      <th>H</th>\n",
       "      <td>3</td>\n",
       "      <td>14</td>\n",
       "      <td>31</td>\n",
       "      <td>74</td>\n",
       "    </tr>\n",
       "  </tbody>\n",
       "</table>\n",
       "</div>"
      ],
      "text/plain": [
       "comment  autre  citron  lait  pur\n",
       "sexe                             \n",
       "F            6      19    32  121\n",
       "H            3      14    31   74"
      ]
     },
     "execution_count": 5,
     "metadata": {},
     "output_type": "execute_result"
    }
   ],
   "source": [
    "E"
   ]
  },
  {
   "cell_type": "code",
   "execution_count": 6,
   "id": "00bf52fc",
   "metadata": {},
   "outputs": [
    {
     "data": {
      "text/html": [
       "<div>\n",
       "<style scoped>\n",
       "    .dataframe tbody tr th:only-of-type {\n",
       "        vertical-align: middle;\n",
       "    }\n",
       "\n",
       "    .dataframe tbody tr th {\n",
       "        vertical-align: top;\n",
       "    }\n",
       "\n",
       "    .dataframe thead th {\n",
       "        text-align: right;\n",
       "    }\n",
       "</style>\n",
       "<table border=\"1\" class=\"dataframe\">\n",
       "  <thead>\n",
       "    <tr style=\"text-align: right;\">\n",
       "      <th>sexe</th>\n",
       "      <th>F</th>\n",
       "      <th>H</th>\n",
       "    </tr>\n",
       "    <tr>\n",
       "      <th>comment</th>\n",
       "      <th></th>\n",
       "      <th></th>\n",
       "    </tr>\n",
       "  </thead>\n",
       "  <tbody>\n",
       "    <tr>\n",
       "      <th>autre</th>\n",
       "      <td>6</td>\n",
       "      <td>3</td>\n",
       "    </tr>\n",
       "    <tr>\n",
       "      <th>citron</th>\n",
       "      <td>19</td>\n",
       "      <td>14</td>\n",
       "    </tr>\n",
       "    <tr>\n",
       "      <th>lait</th>\n",
       "      <td>32</td>\n",
       "      <td>31</td>\n",
       "    </tr>\n",
       "    <tr>\n",
       "      <th>pur</th>\n",
       "      <td>121</td>\n",
       "      <td>74</td>\n",
       "    </tr>\n",
       "  </tbody>\n",
       "</table>\n",
       "</div>"
      ],
      "text/plain": [
       "sexe       F   H\n",
       "comment         \n",
       "autre      6   3\n",
       "citron    19  14\n",
       "lait      32  31\n",
       "pur      121  74"
      ]
     },
     "execution_count": 6,
     "metadata": {},
     "output_type": "execute_result"
    }
   ],
   "source": [
    "E.T"
   ]
  },
  {
   "cell_type": "code",
   "execution_count": 7,
   "id": "01cf20a3",
   "metadata": {},
   "outputs": [],
   "source": [
    "M=pd.crosstab(T['sexe'],T['comment'], margins=True)"
   ]
  },
  {
   "cell_type": "code",
   "execution_count": 8,
   "id": "680a6bc1",
   "metadata": {},
   "outputs": [
    {
     "data": {
      "text/html": [
       "<div>\n",
       "<style scoped>\n",
       "    .dataframe tbody tr th:only-of-type {\n",
       "        vertical-align: middle;\n",
       "    }\n",
       "\n",
       "    .dataframe tbody tr th {\n",
       "        vertical-align: top;\n",
       "    }\n",
       "\n",
       "    .dataframe thead th {\n",
       "        text-align: right;\n",
       "    }\n",
       "</style>\n",
       "<table border=\"1\" class=\"dataframe\">\n",
       "  <thead>\n",
       "    <tr style=\"text-align: right;\">\n",
       "      <th>comment</th>\n",
       "      <th>autre</th>\n",
       "      <th>citron</th>\n",
       "      <th>lait</th>\n",
       "      <th>pur</th>\n",
       "      <th>All</th>\n",
       "    </tr>\n",
       "    <tr>\n",
       "      <th>sexe</th>\n",
       "      <th></th>\n",
       "      <th></th>\n",
       "      <th></th>\n",
       "      <th></th>\n",
       "      <th></th>\n",
       "    </tr>\n",
       "  </thead>\n",
       "  <tbody>\n",
       "    <tr>\n",
       "      <th>F</th>\n",
       "      <td>6</td>\n",
       "      <td>19</td>\n",
       "      <td>32</td>\n",
       "      <td>121</td>\n",
       "      <td>178</td>\n",
       "    </tr>\n",
       "    <tr>\n",
       "      <th>H</th>\n",
       "      <td>3</td>\n",
       "      <td>14</td>\n",
       "      <td>31</td>\n",
       "      <td>74</td>\n",
       "      <td>122</td>\n",
       "    </tr>\n",
       "    <tr>\n",
       "      <th>All</th>\n",
       "      <td>9</td>\n",
       "      <td>33</td>\n",
       "      <td>63</td>\n",
       "      <td>195</td>\n",
       "      <td>300</td>\n",
       "    </tr>\n",
       "  </tbody>\n",
       "</table>\n",
       "</div>"
      ],
      "text/plain": [
       "comment  autre  citron  lait  pur  All\n",
       "sexe                                  \n",
       "F            6      19    32  121  178\n",
       "H            3      14    31   74  122\n",
       "All          9      33    63  195  300"
      ]
     },
     "execution_count": 8,
     "metadata": {},
     "output_type": "execute_result"
    }
   ],
   "source": [
    "M"
   ]
  },
  {
   "cell_type": "code",
   "execution_count": 9,
   "id": "d6da62fc",
   "metadata": {},
   "outputs": [],
   "source": [
    "Freq=M['lait']/M['All']"
   ]
  },
  {
   "cell_type": "code",
   "execution_count": 10,
   "id": "14e90479",
   "metadata": {},
   "outputs": [
    {
     "data": {
      "text/plain": [
       "sexe\n",
       "F      0.179775\n",
       "H      0.254098\n",
       "All    0.210000\n",
       "dtype: float64"
      ]
     },
     "execution_count": 10,
     "metadata": {},
     "output_type": "execute_result"
    }
   ],
   "source": [
    "Freq"
   ]
  },
  {
   "cell_type": "code",
   "execution_count": 11,
   "id": "016d87fa",
   "metadata": {},
   "outputs": [],
   "source": [
    "import pylab as pl"
   ]
  },
  {
   "cell_type": "code",
   "execution_count": 12,
   "id": "ae9a4d73",
   "metadata": {},
   "outputs": [
    {
     "data": {
      "text/html": [
       "<div>\n",
       "<style scoped>\n",
       "    .dataframe tbody tr th:only-of-type {\n",
       "        vertical-align: middle;\n",
       "    }\n",
       "\n",
       "    .dataframe tbody tr th {\n",
       "        vertical-align: top;\n",
       "    }\n",
       "\n",
       "    .dataframe thead th {\n",
       "        text-align: right;\n",
       "    }\n",
       "</style>\n",
       "<table border=\"1\" class=\"dataframe\">\n",
       "  <thead>\n",
       "    <tr style=\"text-align: right;\">\n",
       "      <th>sexe</th>\n",
       "      <th>F</th>\n",
       "      <th>H</th>\n",
       "    </tr>\n",
       "    <tr>\n",
       "      <th>comment</th>\n",
       "      <th></th>\n",
       "      <th></th>\n",
       "    </tr>\n",
       "  </thead>\n",
       "  <tbody>\n",
       "    <tr>\n",
       "      <th>autre</th>\n",
       "      <td>6</td>\n",
       "      <td>3</td>\n",
       "    </tr>\n",
       "    <tr>\n",
       "      <th>citron</th>\n",
       "      <td>19</td>\n",
       "      <td>14</td>\n",
       "    </tr>\n",
       "    <tr>\n",
       "      <th>lait</th>\n",
       "      <td>32</td>\n",
       "      <td>31</td>\n",
       "    </tr>\n",
       "    <tr>\n",
       "      <th>pur</th>\n",
       "      <td>121</td>\n",
       "      <td>74</td>\n",
       "    </tr>\n",
       "  </tbody>\n",
       "</table>\n",
       "</div>"
      ],
      "text/plain": [
       "sexe       F   H\n",
       "comment         \n",
       "autre      6   3\n",
       "citron    19  14\n",
       "lait      32  31\n",
       "pur      121  74"
      ]
     },
     "execution_count": 12,
     "metadata": {},
     "output_type": "execute_result"
    }
   ],
   "source": [
    "E2=pd.crosstab(T['comment'],T['sexe'])\n",
    "E2"
   ]
  },
  {
   "cell_type": "code",
   "execution_count": 13,
   "id": "e471482b",
   "metadata": {},
   "outputs": [
    {
     "data": {
      "text/plain": [
       "([<matplotlib.patches.Wedge at 0x1ff12198dc0>,\n",
       "  <matplotlib.patches.Wedge at 0x1ff1284d550>,\n",
       "  <matplotlib.patches.Wedge at 0x1ff1284dc70>,\n",
       "  <matplotlib.patches.Wedge at 0x1ff1285b3d0>],\n",
       " [Text(1.0938380378228276, 0.11626842654782321, 'autre'),\n",
       "  Text(0.9394224943620061, 0.5722633808716638, 'citron'),\n",
       "  Text(0.13555491853488866, 1.091615712630136, 'lait'),\n",
       "  Text(-0.5887536068655574, -0.9291766195954334, 'pur')],\n",
       " [Text(0.5966389297215423, 0.06341914175335811, '3%'),\n",
       "  Text(0.5124122696520033, 0.3121436622936348, '10%'),\n",
       "  Text(0.07393904647357562, 0.5954267523437106, '17%'),\n",
       "  Text(-0.3211383310175767, -0.5068236106884182, '67%')])"
      ]
     },
     "execution_count": 13,
     "metadata": {},
     "output_type": "execute_result"
    },
    {
     "data": {
      "image/png": "[encoded data removed]",
      "text/plain": [
       "<Figure size 432x288 with 1 Axes>"
      ]
     },
     "metadata": {},
     "output_type": "display_data"
    }
   ],
   "source": [
    "pl.pie(E2['F'],\n",
    "       autopct = lambda x : str(int(x)) + '%',\n",
    "       colors = ['#AAA', 'green', 'white', 'lightblue'],\n",
    "       labels = E.T.index)"
   ]
  },
  {
   "cell_type": "code",
   "execution_count": 14,
   "id": "41ac922e",
   "metadata": {},
   "outputs": [
    {
     "data": {
      "text/plain": [
       "array([[<AxesSubplot:ylabel='autre'>, <AxesSubplot:ylabel='citron'>,\n",
       "        <AxesSubplot:ylabel='lait'>, <AxesSubplot:ylabel='pur'>]],\n",
       "      dtype=object)"
      ]
     },
     "execution_count": 14,
     "metadata": {},
     "output_type": "execute_result"
    },
    {
     "data": {
      "image/png": "[encoded data removed]",
      "text/plain": [
       "<Figure size 576x216 with 4 Axes>"
      ]
     },
     "metadata": {},
     "output_type": "display_data"
    }
   ],
   "source": [
    "E.plot.pie(subplots = True,\n",
    "           legend = None,\n",
    "           layout = (1,4),\n",
    "           autopct = lambda x : str(round(x)) + '%',\n",
    "           figsize = (8,3),\n",
    "           colors = ['pink', 'gray'],\n",
    "           wedgeprops = {'edgecolor' : 'black'},\n",
    "           fontsize = 14\n",
    "          )"
   ]
  },
  {
   "cell_type": "code",
   "execution_count": 15,
   "id": "a1814da5",
   "metadata": {},
   "outputs": [
    {
     "data": {
      "text/plain": [
       "array([[<AxesSubplot:ylabel='F'>, <AxesSubplot:ylabel='H'>]], dtype=object)"
      ]
     },
     "execution_count": 15,
     "metadata": {},
     "output_type": "execute_result"
    },
    {
     "data": {
      "image/png": "[encoded data removed]",
      "text/plain": [
       "<Figure size 576x288 with 2 Axes>"
      ]
     },
     "metadata": {},
     "output_type": "display_data"
    }
   ],
   "source": [
    "E.T.plot.pie(subplots = True,\n",
    "             legend = None,\n",
    "             layout = (1,2),\n",
    "             autopct = lambda x : str(round(x)) + '%',\n",
    "             figsize = (8,4),\n",
    "             colors = ['#AAA', 'green', 'white', 'lightblue'],\n",
    "             wedgeprops = {'edgecolor' : 'black'},\n",
    "             fontsize = 14\n",
    "            )"
   ]
  },
  {
   "cell_type": "code",
   "execution_count": 16,
   "id": "066f6b26",
   "metadata": {},
   "outputs": [
    {
     "data": {
      "text/html": [
       "<div>\n",
       "<style scoped>\n",
       "    .dataframe tbody tr th:only-of-type {\n",
       "        vertical-align: middle;\n",
       "    }\n",
       "\n",
       "    .dataframe tbody tr th {\n",
       "        vertical-align: top;\n",
       "    }\n",
       "\n",
       "    .dataframe thead th {\n",
       "        text-align: right;\n",
       "    }\n",
       "</style>\n",
       "<table border=\"1\" class=\"dataframe\">\n",
       "  <thead>\n",
       "    <tr style=\"text-align: right;\">\n",
       "      <th></th>\n",
       "      <th>tout_moment</th>\n",
       "      <th>sucre</th>\n",
       "      <th>sportif</th>\n",
       "      <th>age</th>\n",
       "      <th>plus_pour_la_sante</th>\n",
       "    </tr>\n",
       "    <tr>\n",
       "      <th>sexe</th>\n",
       "      <th></th>\n",
       "      <th></th>\n",
       "      <th></th>\n",
       "      <th></th>\n",
       "      <th></th>\n",
       "    </tr>\n",
       "  </thead>\n",
       "  <tbody>\n",
       "    <tr>\n",
       "      <th>F</th>\n",
       "      <td>63</td>\n",
       "      <td>71</td>\n",
       "      <td>97</td>\n",
       "      <td>6649</td>\n",
       "      <td>127</td>\n",
       "    </tr>\n",
       "    <tr>\n",
       "      <th>H</th>\n",
       "      <td>40</td>\n",
       "      <td>74</td>\n",
       "      <td>82</td>\n",
       "      <td>4467</td>\n",
       "      <td>83</td>\n",
       "    </tr>\n",
       "  </tbody>\n",
       "</table>\n",
       "</div>"
      ],
      "text/plain": [
       "      tout_moment  sucre  sportif   age  plus_pour_la_sante\n",
       "sexe                                                       \n",
       "F              63     71       97  6649                 127\n",
       "H              40     74       82  4467                  83"
      ]
     },
     "execution_count": 16,
     "metadata": {},
     "output_type": "execute_result"
    }
   ],
   "source": [
    "T.groupby('sexe').sum()"
   ]
  },
  {
   "cell_type": "code",
   "execution_count": 17,
   "id": "40a77859",
   "metadata": {},
   "outputs": [
    {
     "data": {
      "text/html": [
       "<div>\n",
       "<style scoped>\n",
       "    .dataframe tbody tr th:only-of-type {\n",
       "        vertical-align: middle;\n",
       "    }\n",
       "\n",
       "    .dataframe tbody tr th {\n",
       "        vertical-align: top;\n",
       "    }\n",
       "\n",
       "    .dataframe thead th {\n",
       "        text-align: right;\n",
       "    }\n",
       "</style>\n",
       "<table border=\"1\" class=\"dataframe\">\n",
       "  <thead>\n",
       "    <tr style=\"text-align: right;\">\n",
       "      <th></th>\n",
       "      <th>tout_moment</th>\n",
       "      <th>sucre</th>\n",
       "      <th>sportif</th>\n",
       "      <th>age</th>\n",
       "      <th>plus_pour_la_sante</th>\n",
       "    </tr>\n",
       "    <tr>\n",
       "      <th>sexe</th>\n",
       "      <th></th>\n",
       "      <th></th>\n",
       "      <th></th>\n",
       "      <th></th>\n",
       "      <th></th>\n",
       "    </tr>\n",
       "  </thead>\n",
       "  <tbody>\n",
       "    <tr>\n",
       "      <th>F</th>\n",
       "      <td>0.353933</td>\n",
       "      <td>0.398876</td>\n",
       "      <td>0.544944</td>\n",
       "      <td>37.353933</td>\n",
       "      <td>0.713483</td>\n",
       "    </tr>\n",
       "    <tr>\n",
       "      <th>H</th>\n",
       "      <td>0.327869</td>\n",
       "      <td>0.606557</td>\n",
       "      <td>0.672131</td>\n",
       "      <td>36.614754</td>\n",
       "      <td>0.680328</td>\n",
       "    </tr>\n",
       "  </tbody>\n",
       "</table>\n",
       "</div>"
      ],
      "text/plain": [
       "      tout_moment     sucre   sportif        age  plus_pour_la_sante\n",
       "sexe                                                                \n",
       "F        0.353933  0.398876  0.544944  37.353933            0.713483\n",
       "H        0.327869  0.606557  0.672131  36.614754            0.680328"
      ]
     },
     "execution_count": 17,
     "metadata": {},
     "output_type": "execute_result"
    }
   ],
   "source": [
    "T.groupby('sexe').mean()"
   ]
  },
  {
   "cell_type": "code",
   "execution_count": 18,
   "id": "f2e4575e",
   "metadata": {},
   "outputs": [
    {
     "data": {
      "text/html": [
       "<div>\n",
       "<style scoped>\n",
       "    .dataframe tbody tr th:only-of-type {\n",
       "        vertical-align: middle;\n",
       "    }\n",
       "\n",
       "    .dataframe tbody tr th {\n",
       "        vertical-align: top;\n",
       "    }\n",
       "\n",
       "    .dataframe thead th {\n",
       "        text-align: right;\n",
       "    }\n",
       "</style>\n",
       "<table border=\"1\" class=\"dataframe\">\n",
       "  <thead>\n",
       "    <tr style=\"text-align: right;\">\n",
       "      <th></th>\n",
       "      <th></th>\n",
       "      <th>tout_moment</th>\n",
       "      <th>sportif</th>\n",
       "      <th>age</th>\n",
       "      <th>plus_pour_la_sante</th>\n",
       "    </tr>\n",
       "    <tr>\n",
       "      <th>sexe</th>\n",
       "      <th>sucre</th>\n",
       "      <th></th>\n",
       "      <th></th>\n",
       "      <th></th>\n",
       "      <th></th>\n",
       "    </tr>\n",
       "  </thead>\n",
       "  <tbody>\n",
       "    <tr>\n",
       "      <th rowspan=\"2\" valign=\"top\">F</th>\n",
       "      <th>0</th>\n",
       "      <td>0.336449</td>\n",
       "      <td>0.551402</td>\n",
       "      <td>40.757009</td>\n",
       "      <td>0.757009</td>\n",
       "    </tr>\n",
       "    <tr>\n",
       "      <th>1</th>\n",
       "      <td>0.380282</td>\n",
       "      <td>0.535211</td>\n",
       "      <td>32.225352</td>\n",
       "      <td>0.647887</td>\n",
       "    </tr>\n",
       "    <tr>\n",
       "      <th rowspan=\"2\" valign=\"top\">H</th>\n",
       "      <th>0</th>\n",
       "      <td>0.312500</td>\n",
       "      <td>0.645833</td>\n",
       "      <td>41.145833</td>\n",
       "      <td>0.687500</td>\n",
       "    </tr>\n",
       "    <tr>\n",
       "      <th>1</th>\n",
       "      <td>0.337838</td>\n",
       "      <td>0.689189</td>\n",
       "      <td>33.675676</td>\n",
       "      <td>0.675676</td>\n",
       "    </tr>\n",
       "  </tbody>\n",
       "</table>\n",
       "</div>"
      ],
      "text/plain": [
       "            tout_moment   sportif        age  plus_pour_la_sante\n",
       "sexe sucre                                                      \n",
       "F    0         0.336449  0.551402  40.757009            0.757009\n",
       "     1         0.380282  0.535211  32.225352            0.647887\n",
       "H    0         0.312500  0.645833  41.145833            0.687500\n",
       "     1         0.337838  0.689189  33.675676            0.675676"
      ]
     },
     "execution_count": 18,
     "metadata": {},
     "output_type": "execute_result"
    }
   ],
   "source": [
    "T.groupby(['sexe','sucre']).mean()"
   ]
  },
  {
   "cell_type": "code",
   "execution_count": null,
   "id": "363e3e7f",
   "metadata": {},
   "outputs": [],
   "source": []
  }
 ],
 "metadata": {
  "kernelspec": {
   "display_name": "Python 3 (ipykernel)",
   "language": "python",
   "name": "python3"
  },
  "language_info": {
   "codemirror_mode": {
    "name": "ipython",
    "version": 3
   },
   "file_extension": ".py",
   "mimetype": "text/x-python",
   "name": "python",
   "nbconvert_exporter": "python",
   "pygments_lexer": "ipython3",
   "version": "3.9.12"
  },
  "vscode": {
   "interpreter": {
    "hash": "cb57b3ccfe62c6746bf3247651268e5f45d4314d13d2f08503817b1c05971834"
   }
  }
 },
 "nbformat": 4,
 "nbformat_minor": 5
}
